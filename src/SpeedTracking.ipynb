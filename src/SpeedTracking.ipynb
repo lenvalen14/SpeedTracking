{
  "cells": [
    {
      "cell_type": "code",
      "execution_count": 1,
      "metadata": {
        "colab": {
          "base_uri": "https://localhost:8080/"
        },
        "id": "TuWC3ixSAxzr",
        "outputId": "aed8e643-ed77-41ec-ee34-c0c681fe3f93"
      },
      "outputs": [
        {
          "name": "stdout",
          "output_type": "stream",
          "text": [
            "Note: you may need to restart the kernel to use updated packages.Requirement already satisfied: fastapi in c:\\users\\len\\appdata\\local\\programs\\python\\python310\\lib\\site-packages (0.115.11)\n",
            "Requirement already satisfied: uvicorn in c:\\users\\len\\appdata\\local\\programs\\python\\python310\\lib\\site-packages (0.34.0)\n",
            "Collecting python-multipart\n",
            "  Downloading python_multipart-0.0.20-py3-none-any.whl (24 kB)\n",
            "Collecting opencv-python-headless\n",
            "  Downloading opencv_python_headless-4.11.0.86-cp37-abi3-win_amd64.whl (39.4 MB)\n",
            "     --------------------------------------- 39.4/39.4 MB 27.3 MB/s eta 0:00:00\n",
            "Requirement already satisfied: numpy in c:\\users\\len\\appdata\\local\\programs\\python\\python310\\lib\\site-packages (2.0.2)\n",
            "Requirement already satisfied: ultralytics in c:\\users\\len\\appdata\\local\\programs\\python\\python310\\lib\\site-packages (8.3.83)\n",
            "Collecting supervision\n",
            "  Using cached supervision-0.25.1-py3-none-any.whl (181 kB)\n",
            "Requirement already satisfied: pydantic!=1.8,!=1.8.1,!=2.0.0,!=2.0.1,!=2.1.0,<3.0.0,>=1.7.4 in c:\\users\\len\\appdata\\local\\programs\\python\\python310\\lib\\site-packages (from fastapi) (2.10.6)\n",
            "Requirement already satisfied: starlette<0.47.0,>=0.40.0 in c:\\users\\len\\appdata\\local\\programs\\python\\python310\\lib\\site-packages (from fastapi) (0.46.1)\n",
            "Requirement already satisfied: typing-extensions>=4.8.0 in c:\\users\\len\\appdata\\roaming\\python\\python310\\site-packages (from fastapi) (4.12.2)\n",
            "Requirement already satisfied: click>=7.0 in c:\\users\\len\\appdata\\local\\programs\\python\\python310\\lib\\site-packages (from uvicorn) (8.1.8)\n",
            "Requirement already satisfied: h11>=0.8 in c:\\users\\len\\appdata\\local\\programs\\python\\python310\\lib\\site-packages (from uvicorn) (0.14.0)\n",
            "Requirement already satisfied: torch>=1.8.0 in c:\\users\\len\\appdata\\local\\programs\\python\\python310\\lib\\site-packages (from ultralytics) (2.6.0)\n",
            "Requirement already satisfied: tqdm>=4.64.0 in c:\\users\\len\\appdata\\local\\programs\\python\\python310\\lib\\site-packages (from ultralytics) (4.67.1)\n",
            "Requirement already satisfied: py-cpuinfo in c:\\users\\len\\appdata\\local\\programs\\python\\python310\\lib\\site-packages (from ultralytics) (9.0.0)\n",
            "Requirement already satisfied: pandas>=1.1.4 in c:\\users\\len\\appdata\\local\\programs\\python\\python310\\lib\\site-packages (from ultralytics) (2.2.3)\n",
            "Requirement already satisfied: opencv-python>=4.6.0 in c:\\users\\len\\appdata\\local\\programs\\python\\python310\\lib\\site-packages (from ultralytics) (4.11.0.86)\n",
            "Requirement already satisfied: seaborn>=0.11.0 in c:\\users\\len\\appdata\\local\\programs\\python\\python310\\lib\\site-packages (from ultralytics) (0.13.2)\n",
            "Requirement already satisfied: torchvision>=0.9.0 in c:\\users\\len\\appdata\\local\\programs\\python\\python310\\lib\\site-packages (from ultralytics) (0.21.0)\n",
            "Requirement already satisfied: psutil in c:\\users\\len\\appdata\\roaming\\python\\python310\\site-packages (from ultralytics) (7.0.0)\n",
            "Requirement already satisfied: pyyaml>=5.3.1 in c:\\users\\len\\appdata\\local\\programs\\python\\python310\\lib\\site-packages (from ultralytics) (6.0.2)\n",
            "Requirement already satisfied: matplotlib>=3.3.0 in c:\\users\\len\\appdata\\local\\programs\\python\\python310\\lib\\site-packages (from ultralytics) (3.10.1)\n",
            "Requirement already satisfied: pillow>=7.1.2 in c:\\users\\len\\appdata\\local\\programs\\python\\python310\\lib\\site-packages (from ultralytics) (11.1.0)\n",
            "Requirement already satisfied: requests>=2.23.0 in c:\\users\\len\\appdata\\local\\programs\\python\\python310\\lib\\site-packages (from ultralytics) (2.32.3)\n",
            "Requirement already satisfied: ultralytics-thop>=2.0.0 in c:\\users\\len\\appdata\\local\\programs\\python\\python310\\lib\\site-packages (from ultralytics) (2.0.14)\n",
            "Requirement already satisfied: scipy>=1.4.1 in c:\\users\\len\\appdata\\local\\programs\\python\\python310\\lib\\site-packages (from ultralytics) (1.15.2)\n",
            "Requirement already satisfied: contourpy>=1.0.7 in c:\\users\\len\\appdata\\local\\programs\\python\\python310\\lib\\site-packages (from supervision) (1.3.1)\n",
            "Collecting defusedxml<0.8.0,>=0.7.1\n",
            "  Downloading defusedxml-0.7.1-py2.py3-none-any.whl (25 kB)\n",
            "Requirement already satisfied: colorama in c:\\users\\len\\appdata\\roaming\\python\\python310\\site-packages (from click>=7.0->uvicorn) (0.4.6)\n",
            "Requirement already satisfied: fonttools>=4.22.0 in c:\\users\\len\\appdata\\local\\programs\\python\\python310\\lib\\site-packages (from matplotlib>=3.3.0->ultralytics) (4.56.0)\n",
            "Requirement already satisfied: pyparsing>=2.3.1 in c:\\users\\len\\appdata\\local\\programs\\python\\python310\\lib\\site-packages (from matplotlib>=3.3.0->ultralytics) (3.2.1)\n",
            "Requirement already satisfied: python-dateutil>=2.7 in c:\\users\\len\\appdata\\roaming\\python\\python310\\site-packages (from matplotlib>=3.3.0->ultralytics) (2.9.0.post0)\n",
            "Requirement already satisfied: cycler>=0.10 in c:\\users\\len\\appdata\\local\\programs\\python\\python310\\lib\\site-packages (from matplotlib>=3.3.0->ultralytics) (0.12.1)\n",
            "Requirement already satisfied: kiwisolver>=1.3.1 in c:\\users\\len\\appdata\\local\\programs\\python\\python310\\lib\\site-packages (from matplotlib>=3.3.0->ultralytics) (1.4.8)\n",
            "Requirement already satisfied: packaging>=20.0 in c:\\users\\len\\appdata\\roaming\\python\\python310\\site-packages (from matplotlib>=3.3.0->ultralytics) (24.2)\n",
            "Requirement already satisfied: pytz>=2020.1 in c:\\users\\len\\appdata\\local\\programs\\python\\python310\\lib\\site-packages (from pandas>=1.1.4->ultralytics) (2025.1)\n",
            "Requirement already satisfied: tzdata>=2022.7 in c:\\users\\len\\appdata\\local\\programs\\python\\python310\\lib\\site-packages (from pandas>=1.1.4->ultralytics) (2025.1)\n",
            "Requirement already satisfied: pydantic-core==2.27.2 in c:\\users\\len\\appdata\\local\\programs\\python\\python310\\lib\\site-packages (from pydantic!=1.8,!=1.8.1,!=2.0.0,!=2.0.1,!=2.1.0,<3.0.0,>=1.7.4->fastapi) (2.27.2)\n",
            "Requirement already satisfied: annotated-types>=0.6.0 in c:\\users\\len\\appdata\\local\\programs\\python\\python310\\lib\\site-packages (from pydantic!=1.8,!=1.8.1,!=2.0.0,!=2.0.1,!=2.1.0,<3.0.0,>=1.7.4->fastapi) (0.7.0)\n",
            "Requirement already satisfied: urllib3<3,>=1.21.1 in c:\\users\\len\\appdata\\local\\programs\\python\\python310\\lib\\site-packages (from requests>=2.23.0->ultralytics) (2.3.0)\n",
            "Requirement already satisfied: certifi>=2017.4.17 in c:\\users\\len\\appdata\\local\\programs\\python\\python310\\lib\\site-packages (from requests>=2.23.0->ultralytics) (2025.1.31)\n",
            "Requirement already satisfied: charset-normalizer<4,>=2 in c:\\users\\len\\appdata\\local\\programs\\python\\python310\\lib\\site-packages (from requests>=2.23.0->ultralytics) (3.4.1)\n",
            "Requirement already satisfied: idna<4,>=2.5 in c:\\users\\len\\appdata\\local\\programs\\python\\python310\\lib\\site-packages (from requests>=2.23.0->ultralytics) (3.10)\n",
            "Requirement already satisfied: anyio<5,>=3.6.2 in c:\\users\\len\\appdata\\local\\programs\\python\\python310\\lib\\site-packages (from starlette<0.47.0,>=0.40.0->fastapi) (4.8.0)\n",
            "Requirement already satisfied: jinja2 in c:\\users\\len\\appdata\\local\\programs\\python\\python310\\lib\\site-packages (from torch>=1.8.0->ultralytics) (3.1.5)\n",
            "Requirement already satisfied: sympy==1.13.1 in c:\\users\\len\\appdata\\local\\programs\\python\\python310\\lib\\site-packages (from torch>=1.8.0->ultralytics) (1.13.1)\n",
            "Requirement already satisfied: filelock in c:\\users\\len\\appdata\\local\\programs\\python\\python310\\lib\\site-packages (from torch>=1.8.0->ultralytics) (3.17.0)\n",
            "Requirement already satisfied: fsspec in c:\\users\\len\\appdata\\local\\programs\\python\\python310\\lib\\site-packages (from torch>=1.8.0->ultralytics) (2025.2.0)\n",
            "Requirement already satisfied: networkx in c:\\users\\len\\appdata\\local\\programs\\python\\python310\\lib\\site-packages (from torch>=1.8.0->ultralytics) (3.4.2)\n",
            "Requirement already satisfied: mpmath<1.4,>=1.1.0 in c:\\users\\len\\appdata\\local\\programs\\python\\python310\\lib\\site-packages (from sympy==1.13.1->torch>=1.8.0->ultralytics) (1.3.0)\n",
            "Requirement already satisfied: exceptiongroup>=1.0.2 in c:\\users\\len\\appdata\\roaming\\python\\python310\\site-packages (from anyio<5,>=3.6.2->starlette<0.47.0,>=0.40.0->fastapi) (1.2.2)\n",
            "Requirement already satisfied: sniffio>=1.1 in c:\\users\\len\\appdata\\local\\programs\\python\\python310\\lib\\site-packages (from anyio<5,>=3.6.2->starlette<0.47.0,>=0.40.0->fastapi) (1.3.1)\n",
            "Requirement already satisfied: six>=1.5 in c:\\users\\len\\appdata\\roaming\\python\\python310\\site-packages (from python-dateutil>=2.7->matplotlib>=3.3.0->ultralytics) (1.17.0)\n",
            "Requirement already satisfied: MarkupSafe>=2.0 in c:\\users\\len\\appdata\\local\\programs\\python\\python310\\lib\\site-packages (from jinja2->torch>=1.8.0->ultralytics) (3.0.2)\n",
            "Installing collected packages: python-multipart, opencv-python-headless, defusedxml, supervision\n",
            "Successfully installed defusedxml-0.7.1 opencv-python-headless-4.11.0.86 python-multipart-0.0.20 supervision-0.25.1\n",
            "\n"
          ]
        },
        {
          "name": "stderr",
          "output_type": "stream",
          "text": [
            "\n",
            "[notice] A new release of pip available: 22.2.2 -> 25.0.1\n",
            "[notice] To update, run: python.exe -m pip install --upgrade pip\n"
          ]
        }
      ],
      "source": [
        "%pip install fastapi uvicorn python-multipart opencv-python-headless numpy ultralytics supervision"
      ]
    },
    {
      "cell_type": "code",
      "execution_count": 3,
      "metadata": {
        "colab": {
          "base_uri": "https://localhost:8080/"
        },
        "id": "yPMsD14jARgX",
        "outputId": "0e9c2509-814c-4d09-a31d-e2d63bd65ea4"
      },
      "outputs": [
        {
          "name": "stdout",
          "output_type": "stream",
          "text": [
            "Creating new Ultralytics Settings v0.0.6 file ✅ \n",
            "View Ultralytics Settings with 'yolo settings' or at '/root/.config/Ultralytics/settings.json'\n",
            "Update Settings with 'yolo settings key=value', i.e. 'yolo settings runs_dir=path/to/dir'. For help see https://docs.ultralytics.com/quickstart/#ultralytics-settings.\n"
          ]
        }
      ],
      "source": [
        "# 1. Import thư viện\n",
        "from fastapi import FastAPI, UploadFile, File, Form\n",
        "from fastapi.responses import JSONResponse\n",
        "import uvicorn\n",
        "import nest_asyncio\n",
        "import shutil\n",
        "import os\n",
        "from pathlib import Path\n",
        "\n",
        "import cv2\n",
        "import numpy as np\n",
        "from ultralytics import YOLO\n",
        "from collections import defaultdict, deque\n",
        "import supervision as sv"
      ]
    },
    {
      "cell_type": "code",
      "execution_count": 4,
      "metadata": {
        "id": "oTkOF0AACLe5"
      },
      "outputs": [],
      "source": [
        "# Cho phép FastAPI chạy trong notebook\n",
        "nest_asyncio.apply()\n",
        "\n",
        "# 2. Khởi tạo FastAPI app\n",
        "app = FastAPI()"
      ]
    },
    {
      "cell_type": "code",
      "execution_count": 5,
      "metadata": {
        "id": "4Hcv1HDyCRY4"
      },
      "outputs": [],
      "source": [
        "# 3. Tọa độ polygon giám sát (có thể chỉnh tùy video)\n",
        "SOURCE = np.array([[1252, 787], [2298, 803], [5039, 2159], [-550, 2159]])\n",
        "TARGET_WIDTH = 25\n",
        "TARGET_HEIGHT = 250\n",
        "TARGET = np.array([[0, 0], [TARGET_WIDTH-1, 0], [TARGET_WIDTH-1, TARGET_HEIGHT-1], [0, TARGET_HEIGHT-1]])\n",
        "\n",
        "class ViewTransformer:\n",
        "    def __init__(self, source, target):\n",
        "        self.m = cv2.getPerspectiveTransform(source.astype(np.float32), target.astype(np.float32))\n",
        "\n",
        "    def transform_points(self, points):\n",
        "        if points.size == 0:\n",
        "            return points\n",
        "        reshaped_points = points.reshape(-1, 1, 2).astype(np.float32)\n",
        "        transformed = cv2.perspectiveTransform(reshaped_points, self.m)\n",
        "        return transformed.reshape(-1, 2)"
      ]
    },
    {
      "cell_type": "code",
      "execution_count": 6,
      "metadata": {
        "id": "z5i0pfKkCYpf"
      },
      "outputs": [],
      "source": [
        "# 4. Xử lý chính: detect & tính tốc độ\n",
        "def run_speed_detection(video_path: str, speed_limit: float, output_path: str = \"output.mp4\") -> dict:\n",
        "    video_info = sv.VideoInfo.from_video_path(video_path)\n",
        "    model = YOLO(\"yolov8n.pt\")  # Dùng model nhỏ để demo\n",
        "    byte_track = sv.ByteTrack(frame_rate=video_info.fps, track_activation_threshold=0.3)\n",
        "\n",
        "    thickness = sv.calculate_optimal_line_thickness(video_info.resolution_wh)\n",
        "    text_scale = sv.calculate_optimal_text_scale(video_info.resolution_wh)\n",
        "    box_annotator = sv.BoxAnnotator(thickness=thickness)\n",
        "    label_annotator = sv.LabelAnnotator(text_scale=text_scale, text_thickness=thickness, text_position=sv.Position.BOTTOM_CENTER)\n",
        "    trace_annotator = sv.TraceAnnotator(thickness=thickness, trace_length=video_info.fps*2, position=sv.Position.BOTTOM_CENTER)\n",
        "\n",
        "    frame_generator = sv.get_video_frames_generator(source_path=video_path)\n",
        "    polygon_zone = sv.PolygonZone(polygon=SOURCE)\n",
        "    view_transformer = ViewTransformer(source=SOURCE, target=TARGET)\n",
        "\n",
        "    coordinates = defaultdict(lambda: deque(maxlen=video_info.fps))\n",
        "    violations = []\n",
        "\n",
        "    output_dir = Path(\"violations\")\n",
        "    output_dir.mkdir(exist_ok=True)\n",
        "\n",
        "    with sv.VideoSink(output_path, video_info) as sink:\n",
        "        for frame_index, frame in enumerate(frame_generator):\n",
        "            result = model(frame)[0]\n",
        "            detections = sv.Detections.from_ultralytics(result)\n",
        "            detections = detections[detections.confidence > 0.3]\n",
        "            detections = detections[polygon_zone.trigger(detections)]\n",
        "            detections = detections.with_nms(threshold=0.7)\n",
        "            detections = byte_track.update_with_detections(detections=detections)\n",
        "\n",
        "            points = detections.get_anchors_coordinates(anchor=sv.Position.BOTTOM_CENTER)\n",
        "            points = view_transformer.transform_points(points=points).astype(int)\n",
        "\n",
        "            for tracker_id, [_, y] in zip(detections.tracker_id, points):\n",
        "                coordinates[tracker_id].append(y)\n",
        "\n",
        "            labels = []\n",
        "            colors = []\n",
        "            for det, tracker_id in zip(detections, detections.tracker_id):\n",
        "                if len(coordinates[tracker_id]) < video_info.fps / 2:\n",
        "                    labels.append(f\"#{tracker_id}\")\n",
        "                    colors.append(sv.Color.GREEN)\n",
        "                else:\n",
        "                    y_start = coordinates[tracker_id][-1]\n",
        "                    y_end = coordinates[tracker_id][0]\n",
        "                    distance = abs(y_start - y_end)\n",
        "                    time = len(coordinates[tracker_id]) / video_info.fps\n",
        "                    speed = distance / time * 3.6\n",
        "                    if speed > speed_limit:\n",
        "                        labels.append(f\"#{tracker_id} {int(speed)} km/h 🚨\")\n",
        "                        colors.append(sv.Color.RED)\n",
        "\n",
        "                        # Lưu hình ảnh vi phạm\n",
        "                        x1, y1, x2, y2 = map(int, det.xyxy)\n",
        "                        car_img = frame[y1:y2, x1:x2]\n",
        "                        cv2.imwrite(str(output_dir / f\"violation_{tracker_id}_{frame_index}.jpg\"), car_img)\n",
        "\n",
        "                        # Ghi log\n",
        "                        violations.append({\"id\": int(tracker_id), \"speed\": round(speed, 2)})\n",
        "                    else:\n",
        "                        labels.append(f\"#{tracker_id} {int(speed)} km/h\")\n",
        "                        colors.append(sv.Color.GREEN)\n",
        "\n",
        "            annotated = frame.copy()\n",
        "            annotated = trace_annotator.annotate(scene=annotated, detections=detections)\n",
        "            annotated = box_annotator.annotate(scene=annotated, detections=detections, color=colors)\n",
        "            annotated = label_annotator.annotate(scene=annotated, detections=detections, labels=labels)\n",
        "\n",
        "            sink.write_frame(annotated)\n",
        "\n",
        "    return {\n",
        "        \"message\": \"Done\",\n",
        "        \"total_violations\": len(violations),\n",
        "        \"violators\": violations,\n",
        "        \"output_video\": output_path\n",
        "    }\n"
      ]
    },
    {
      "cell_type": "code",
      "execution_count": 7,
      "metadata": {
        "colab": {
          "base_uri": "https://localhost:8080/"
        },
        "id": "4f5wcKbMCciy",
        "outputId": "1658f179-70fd-478c-fda0-0c572dd094d1"
      },
      "outputs": [
        {
          "name": "stderr",
          "output_type": "stream",
          "text": [
            "INFO:     Started server process [367]\n",
            "INFO:     Waiting for application startup.\n",
            "INFO:     Application startup complete.\n",
            "INFO:     Uvicorn running on http://0.0.0.0:8000 (Press CTRL+C to quit)\n",
            "INFO:     Shutting down\n",
            "INFO:     Waiting for application shutdown.\n",
            "INFO:     Application shutdown complete.\n",
            "INFO:     Finished server process [367]\n"
          ]
        }
      ],
      "source": [
        "# 5. API endpoint\n",
        "@app.post(\"/detect-speed\")\n",
        "async def detect_speed_api(video: UploadFile = File(...), speed_limit: float = Form(...)):\n",
        "    video_path = f\"temp_{video.filename}\"\n",
        "    with open(video_path, \"wb\") as f:\n",
        "        f.write(await video.read())\n",
        "\n",
        "    output_video = f\"out_{video.filename}\"\n",
        "    result = run_speed_detection(video_path, speed_limit, output_video)\n",
        "\n",
        "    return JSONResponse(content=result)\n",
        "\n",
        "# 6. Chạy API (dùng trong Jupyter)\n",
        "uvicorn.run(app, host=\"0.0.0.0\", port=8000)"
      ]
    },
    {
      "cell_type": "code",
      "execution_count": 3,
      "metadata": {},
      "outputs": [
        {
          "name": "stdout",
          "output_type": "stream",
          "text": [
            "Collecting paddlepaddle\n",
            "  Downloading paddlepaddle-3.0.0-cp310-cp310-win_amd64.whl (97.0 MB)\n",
            "     ---------------------------------------- 97.0/97.0 MB 2.5 MB/s eta 0:00:00\n",
            "Collecting httpx\n",
            "  Using cached httpx-0.28.1-py3-none-any.whl (73 kB)\n",
            "Collecting astor\n",
            "  Using cached astor-0.8.1-py2.py3-none-any.whl (27 kB)\n",
            "Requirement already satisfied: decorator in c:\\users\\len\\appdata\\roaming\\python\\python310\\site-packages (from paddlepaddle) (5.2.1)\n",
            "Requirement already satisfied: protobuf>=3.20.2 in c:\\users\\len\\appdata\\local\\programs\\python\\python310\\lib\\site-packages (from paddlepaddle) (5.29.3)\n",
            "Requirement already satisfied: Pillow in c:\\users\\len\\appdata\\local\\programs\\python\\python310\\lib\\site-packages (from paddlepaddle) (11.1.0)\n",
            "Requirement already satisfied: networkx in c:\\users\\len\\appdata\\local\\programs\\python\\python310\\lib\\site-packages (from paddlepaddle) (3.4.2)\n",
            "Requirement already satisfied: typing-extensions in c:\\users\\len\\appdata\\roaming\\python\\python310\\site-packages (from paddlepaddle) (4.12.2)\n",
            "Collecting opt-einsum==3.3.0\n",
            "  Using cached opt_einsum-3.3.0-py3-none-any.whl (65 kB)\n",
            "Requirement already satisfied: numpy>=1.21 in c:\\users\\len\\appdata\\local\\programs\\python\\python310\\lib\\site-packages (from paddlepaddle) (2.0.2)\n",
            "Requirement already satisfied: idna in c:\\users\\len\\appdata\\local\\programs\\python\\python310\\lib\\site-packages (from httpx->paddlepaddle) (3.10)\n",
            "Requirement already satisfied: certifi in c:\\users\\len\\appdata\\local\\programs\\python\\python310\\lib\\site-packages (from httpx->paddlepaddle) (2025.1.31)\n",
            "Collecting httpcore==1.*\n",
            "  Using cached httpcore-1.0.8-py3-none-any.whl (78 kB)\n",
            "Requirement already satisfied: anyio in c:\\users\\len\\appdata\\local\\programs\\python\\python310\\lib\\site-packages (from httpx->paddlepaddle) (4.8.0)\n",
            "Requirement already satisfied: h11<0.15,>=0.13 in c:\\users\\len\\appdata\\local\\programs\\python\\python310\\lib\\site-packages (from httpcore==1.*->httpx->paddlepaddle) (0.14.0)\n",
            "Requirement already satisfied: sniffio>=1.1 in c:\\users\\len\\appdata\\local\\programs\\python\\python310\\lib\\site-packages (from anyio->httpx->paddlepaddle) (1.3.1)\n",
            "Requirement already satisfied: exceptiongroup>=1.0.2 in c:\\users\\len\\appdata\\roaming\\python\\python310\\site-packages (from anyio->httpx->paddlepaddle) (1.2.2)\n",
            "Installing collected packages: opt-einsum, httpcore, astor, httpx, paddlepaddle\n",
            "  Attempting uninstall: opt-einsum\n",
            "    Found existing installation: opt_einsum 3.4.0\n",
            "    Uninstalling opt_einsum-3.4.0:\n",
            "      Successfully uninstalled opt_einsum-3.4.0\n",
            "Successfully installed astor-0.8.1 httpcore-1.0.8 httpx-0.28.1 opt-einsum-3.3.0 paddlepaddle-3.0.0\n",
            "Note: you may need to restart the kernel to use updated packages.\n"
          ]
        },
        {
          "name": "stderr",
          "output_type": "stream",
          "text": [
            "\n",
            "[notice] A new release of pip available: 22.2.2 -> 25.0.1\n",
            "[notice] To update, run: python.exe -m pip install --upgrade pip\n"
          ]
        }
      ],
      "source": [
        "%pip install paddlepaddle"
      ]
    }
  ],
  "metadata": {
    "colab": {
      "provenance": []
    },
    "kernelspec": {
      "display_name": "Python 3",
      "name": "python3"
    },
    "language_info": {
      "codemirror_mode": {
        "name": "ipython",
        "version": 3
      },
      "file_extension": ".py",
      "mimetype": "text/x-python",
      "name": "python",
      "nbconvert_exporter": "python",
      "pygments_lexer": "ipython3",
      "version": "3.10.8"
    }
  },
  "nbformat": 4,
  "nbformat_minor": 0
}
